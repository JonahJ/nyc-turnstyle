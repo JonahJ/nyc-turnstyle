{
 "cells": [
  {
   "cell_type": "code",
   "execution_count": 1,
   "metadata": {
    "collapsed": true
   },
   "outputs": [],
   "source": [
    "import numpy as np\n",
    "import pandas as pd"
   ]
  },
  {
   "cell_type": "code",
   "execution_count": 2,
   "metadata": {
    "collapsed": false
   },
   "outputs": [
    {
     "data": {
      "text/html": [
       "<div>\n",
       "<table border=\"1\" class=\"dataframe\">\n",
       "  <thead>\n",
       "    <tr style=\"text-align: right;\">\n",
       "      <th></th>\n",
       "      <th>A002</th>\n",
       "      <th>R051</th>\n",
       "      <th>02-00-00</th>\n",
       "      <th>07-27-13</th>\n",
       "      <th>00:00:00</th>\n",
       "      <th>REGULAR</th>\n",
       "      <th>004209603</th>\n",
       "      <th>001443585</th>\n",
       "      <th>07-27-13.1</th>\n",
       "      <th>04:00:00</th>\n",
       "      <th>...</th>\n",
       "      <th>07-28-13</th>\n",
       "      <th>00:00:00.1</th>\n",
       "      <th>REGULAR.6</th>\n",
       "      <th>004210432</th>\n",
       "      <th>001443801</th>\n",
       "      <th>07-28-13.1</th>\n",
       "      <th>04:00:00.1</th>\n",
       "      <th>REGULAR.7</th>\n",
       "      <th>004210472</th>\n",
       "      <th>001443805</th>\n",
       "    </tr>\n",
       "  </thead>\n",
       "  <tbody>\n",
       "    <tr>\n",
       "      <th>0</th>\n",
       "      <td>A002</td>\n",
       "      <td>R051</td>\n",
       "      <td>02-00-00</td>\n",
       "      <td>07-28-13</td>\n",
       "      <td>08:00:00</td>\n",
       "      <td>REGULAR</td>\n",
       "      <td>4210490</td>\n",
       "      <td>1443821</td>\n",
       "      <td>07-28-13</td>\n",
       "      <td>12:00:00</td>\n",
       "      <td>...</td>\n",
       "      <td>07-29-13</td>\n",
       "      <td>08:00:00</td>\n",
       "      <td>REGULAR</td>\n",
       "      <td>4211176</td>\n",
       "      <td>1444042</td>\n",
       "      <td>07-29-13</td>\n",
       "      <td>12:00:00</td>\n",
       "      <td>REGULAR</td>\n",
       "      <td>4211350</td>\n",
       "      <td>1444247</td>\n",
       "    </tr>\n",
       "    <tr>\n",
       "      <th>1</th>\n",
       "      <td>A002</td>\n",
       "      <td>R051</td>\n",
       "      <td>02-00-00</td>\n",
       "      <td>07-29-13</td>\n",
       "      <td>16:00:00</td>\n",
       "      <td>REGULAR</td>\n",
       "      <td>4211586</td>\n",
       "      <td>1444302</td>\n",
       "      <td>07-29-13</td>\n",
       "      <td>20:00:00</td>\n",
       "      <td>...</td>\n",
       "      <td>07-30-13</td>\n",
       "      <td>14:01:00</td>\n",
       "      <td>DOOR OPEN</td>\n",
       "      <td>4213192</td>\n",
       "      <td>1444700</td>\n",
       "      <td>07-30-13</td>\n",
       "      <td>14:01:35</td>\n",
       "      <td>DOOR OPEN</td>\n",
       "      <td>4213192</td>\n",
       "      <td>1444700</td>\n",
       "    </tr>\n",
       "    <tr>\n",
       "      <th>2</th>\n",
       "      <td>A002</td>\n",
       "      <td>R051</td>\n",
       "      <td>02-00-00</td>\n",
       "      <td>07-30-13</td>\n",
       "      <td>14:01:46</td>\n",
       "      <td>LOGON</td>\n",
       "      <td>4213192</td>\n",
       "      <td>1444700</td>\n",
       "      <td>07-30-13</td>\n",
       "      <td>14:01:49</td>\n",
       "      <td>...</td>\n",
       "      <td>07-30-13</td>\n",
       "      <td>14:07:55</td>\n",
       "      <td>DOOR OPEN</td>\n",
       "      <td>4213192</td>\n",
       "      <td>1444700</td>\n",
       "      <td>07-30-13</td>\n",
       "      <td>14:11:56</td>\n",
       "      <td>DOOR CLOSE</td>\n",
       "      <td>4213192</td>\n",
       "      <td>1444700</td>\n",
       "    </tr>\n",
       "    <tr>\n",
       "      <th>3</th>\n",
       "      <td>A002</td>\n",
       "      <td>R051</td>\n",
       "      <td>02-00-00</td>\n",
       "      <td>07-30-13</td>\n",
       "      <td>16:00:00</td>\n",
       "      <td>REGULAR</td>\n",
       "      <td>4213333</td>\n",
       "      <td>1444737</td>\n",
       "      <td>07-30-13</td>\n",
       "      <td>20:00:00</td>\n",
       "      <td>...</td>\n",
       "      <td>07-31-13</td>\n",
       "      <td>16:00:00</td>\n",
       "      <td>REGULAR</td>\n",
       "      <td>4214863</td>\n",
       "      <td>1445194</td>\n",
       "      <td>07-31-13</td>\n",
       "      <td>20:00:00</td>\n",
       "      <td>REGULAR</td>\n",
       "      <td>4215656</td>\n",
       "      <td>1445251</td>\n",
       "    </tr>\n",
       "    <tr>\n",
       "      <th>4</th>\n",
       "      <td>A002</td>\n",
       "      <td>R051</td>\n",
       "      <td>02-00-00</td>\n",
       "      <td>08-01-13</td>\n",
       "      <td>00:00:00</td>\n",
       "      <td>REGULAR</td>\n",
       "      <td>4215894</td>\n",
       "      <td>1445274</td>\n",
       "      <td>08-01-13</td>\n",
       "      <td>04:00:00</td>\n",
       "      <td>...</td>\n",
       "      <td>08-02-13</td>\n",
       "      <td>00:00:00</td>\n",
       "      <td>REGULAR</td>\n",
       "      <td>4217489</td>\n",
       "      <td>1445773</td>\n",
       "      <td>08-02-13</td>\n",
       "      <td>04:00:00</td>\n",
       "      <td>REGULAR</td>\n",
       "      <td>4217532</td>\n",
       "      <td>1445775</td>\n",
       "    </tr>\n",
       "  </tbody>\n",
       "</table>\n",
       "<p>5 rows × 43 columns</p>\n",
       "</div>"
      ],
      "text/plain": [
       "   A002  R051  02-00-00  07-27-13  00:00:00  REGULAR  004209603  001443585  \\\n",
       "0  A002  R051  02-00-00  07-28-13  08:00:00  REGULAR    4210490    1443821   \n",
       "1  A002  R051  02-00-00  07-29-13  16:00:00  REGULAR    4211586    1444302   \n",
       "2  A002  R051  02-00-00  07-30-13  14:01:46    LOGON    4213192    1444700   \n",
       "3  A002  R051  02-00-00  07-30-13  16:00:00  REGULAR    4213333    1444737   \n",
       "4  A002  R051  02-00-00  08-01-13  00:00:00  REGULAR    4215894    1445274   \n",
       "\n",
       "  07-27-13.1  04:00:00  \\\n",
       "0   07-28-13  12:00:00   \n",
       "1   07-29-13  20:00:00   \n",
       "2   07-30-13  14:01:49   \n",
       "3   07-30-13  20:00:00   \n",
       "4   08-01-13  04:00:00   \n",
       "\n",
       "                                                              ...                                                              \\\n",
       "0                                                             ...                                                               \n",
       "1                                                             ...                                                               \n",
       "2                                                             ...                                                               \n",
       "3                                                             ...                                                               \n",
       "4                                                             ...                                                               \n",
       "\n",
       "   07-28-13  00:00:00.1  REGULAR.6 004210432 001443801 07-28-13.1  04:00:00.1  \\\n",
       "0  07-29-13    08:00:00    REGULAR   4211176   1444042   07-29-13    12:00:00   \n",
       "1  07-30-13    14:01:00  DOOR OPEN   4213192   1444700   07-30-13    14:01:35   \n",
       "2  07-30-13    14:07:55  DOOR OPEN   4213192   1444700   07-30-13    14:11:56   \n",
       "3  07-31-13    16:00:00    REGULAR   4214863   1445194   07-31-13    20:00:00   \n",
       "4  08-02-13    00:00:00    REGULAR   4217489   1445773   08-02-13    04:00:00   \n",
       "\n",
       "    REGULAR.7 004210472  \\\n",
       "0     REGULAR   4211350   \n",
       "1   DOOR OPEN   4213192   \n",
       "2  DOOR CLOSE   4213192   \n",
       "3     REGULAR   4215656   \n",
       "4     REGULAR   4217532   \n",
       "\n",
       "  001443805                                                                                                                    \n",
       "0                                            1444247                                                                           \n",
       "1                                            1444700                                                                           \n",
       "2                                            1444700                                                                           \n",
       "3                                            1445251                                                                           \n",
       "4                                            1445775                                                                           \n",
       "\n",
       "[5 rows x 43 columns]"
      ]
     },
     "execution_count": 2,
     "metadata": {},
     "output_type": "execute_result"
    }
   ],
   "source": [
    "df = pd.read_csv('data/turnstile_130803.txt')\n",
    "df.head()"
   ]
  },
  {
   "cell_type": "code",
   "execution_count": 3,
   "metadata": {
    "collapsed": false
   },
   "outputs": [
    {
     "data": {
      "text/plain": [
       "['A002',\n",
       " 'R051',\n",
       " '02-00-00',\n",
       " '07-27-13',\n",
       " '00:00:00',\n",
       " 'REGULAR',\n",
       " '004209603',\n",
       " '001443585',\n",
       " '07-27-13',\n",
       " '04:00:00',\n",
       " 'REGULAR',\n",
       " '004209643',\n",
       " '001443593',\n",
       " '07-27-13',\n",
       " '08:00:00',\n",
       " 'REGULAR',\n",
       " '004209663',\n",
       " '001443616',\n",
       " '07-27-13',\n",
       " '12:00:00',\n",
       " 'REGULAR',\n",
       " '004209741',\n",
       " '001443687',\n",
       " '07-27-13',\n",
       " '16:00:00',\n",
       " 'REGULAR',\n",
       " '004210004',\n",
       " '001443740',\n",
       " '07-27-13',\n",
       " '20:00:00',\n",
       " 'REGULAR',\n",
       " '004210276',\n",
       " '001443777',\n",
       " '07-28-13',\n",
       " '00:00:00',\n",
       " 'REGULAR',\n",
       " '004210432',\n",
       " '001443801',\n",
       " '07-28-13',\n",
       " '04:00:00',\n",
       " 'REGULAR',\n",
       " '004210472',\n",
       " '001443805                                                                                                                  ']"
      ]
     },
     "execution_count": 3,
     "metadata": {},
     "output_type": "execute_result"
    }
   ],
   "source": [
    "import csv\n",
    "with open('data/turnstile_130803.txt', 'r') as csvfile:\n",
    "    reader = csv.reader(csvfile)\n",
    "    raw_data = [row for row in reader]\n",
    "\n",
    "raw_data[0]"
   ]
  },
  {
   "cell_type": "code",
   "execution_count": 4,
   "metadata": {
    "collapsed": false
   },
   "outputs": [
    {
     "name": "stdout",
     "output_type": "stream",
     "text": [
      "Field Description\n",
      "\n",
      "C/A,UNIT,SCP,DATE1,TIME1,DESC1,ENTRIES1,EXITS1,DATE2,TIME2,DESC2,ENTRIES2,EXITS2,DATE3,TIME3,DESC3,ENTRIES3,EXITS3,DATE4,TIME4,DESC4,ENTRIES4,EXITS4,DATE5,TIME5,DESC5,ENTRIES5,EXITS5,DATE6,TIME6,DESC6,ENTRIES6,EXITS6,DATE7,TIME7,DESC7,ENTRIES7,EXITS7,DATE8,TIME8,DESC8,ENTRIES8,EXITS8\n",
      "\n",
      "\n",
      "C/A = Control Area (A002)\n",
      "UNIT = Remote Unit for a station (R051)\n",
      "SCP = Subunit Channel Position represents an specific address for a device (02-00-00)\n",
      "DATEn = Represents the date (MM-DD-YY)\n",
      "TIMEn = Represents the time (hh:mm:ss) for a scheduled audit event\n",
      "DEScn = Represent the \"REGULAR\" scheduled audit event (occurs every 4 hours)\n",
      "ENTRIESn = The comulative entry register value for a device\n",
      "EXISTn = The cumulative exit register value for a device\n",
      "\n",
      "\n",
      "\n",
      "Example:\n",
      "The data below shows the entry/exit register values for one turnstile at control area (A002) from 03/21/10 at 00:00 hours to 03/28/10 at 20:00 hours\n",
      "\n",
      "\n",
      "A002,R051,02-00-00,03-21-10,00:00:00,REGULAR,002670738,000917107,03-21-10,04:00:00,REGULAR,002670738,000917107,03-21-10,08:00:00,REGULAR,002670746,000917117,03-21-10,12:00:00,REGULAR,002670790,000917166,03-21-10,16:00:00,REGULAR,002670932,000917204,03-21-10,20:00:00,REGULAR,002671164,000917230,03-22-10,00:00:00,REGULAR,002671181,000917231,03-22-10,04:00:00,REGULAR,002671181,000917231\n",
      "A002,R051,02-00-00,03-22-10,08:00:00,REGULAR,002671220,000917324,03-22-10,12:00:00,REGULAR,002671364,000917640,03-22-10,16:00:00,REGULAR,002671651,000917719,03-22-10,20:00:00,REGULAR,002672430,000917789,03-23-10,00:00:00,REGULAR,002672473,000917795,03-23-10,04:00:00,REGULAR,002672474,000917795,03-23-10,08:00:00,REGULAR,002672516,000917876,03-23-10,12:00:00,REGULAR,002672652,000917934\n",
      "A002,R051,02-00-00,03-23-10,16:00:00,REGULAR,002672879,000917996,03-23-10,20:00:00,REGULAR,002673636,000918073,03-24-10,00:00:00,REGULAR,002673683,000918079,03-24-10,04:00:00,REGULAR,002673683,000918079,03-24-10,08:00:00,REGULAR,002673722,000918171,03-24-10,12:00:00,REGULAR,002673876,000918514,03-24-10,16:00:00,REGULAR,002674221,000918594,03-24-10,20:00:00,REGULAR,002675082,000918671\n",
      "A002,R051,02-00-00,03-25-10,00:00:00,REGULAR,002675153,000918675,03-25-10,04:00:00,REGULAR,002675153,000918675,03-25-10,08:00:00,REGULAR,002675190,000918752,03-25-10,12:00:00,REGULAR,002675345,000919053,03-25-10,16:00:00,REGULAR,002675676,000919118,03-25-10,20:00:00,REGULAR,002676557,000919179,03-26-10,00:00:00,REGULAR,002676688,000919207,03-26-10,04:00:00,REGULAR,002676694,000919208\n",
      "A002,R051,02-00-00,03-26-10,08:00:00,REGULAR,002676735,000919287,03-26-10,12:00:00,REGULAR,002676887,000919607,03-26-10,16:00:00,REGULAR,002677213,000919680,03-26-10,20:00:00,REGULAR,002678039,000919743,03-27-10,00:00:00,REGULAR,002678144,000919756,03-27-10,04:00:00,REGULAR,002678145,000919756,03-27-10,08:00:00,REGULAR,002678155,000919777,03-27-10,12:00:00,REGULAR,002678247,000919859\n",
      "A002,R051,02-00-00,03-27-10,16:00:00,REGULAR,002678531,000919908,03-27-10,20:00:00,REGULAR,002678892,000919964,03-28-10,00:00:00,REGULAR,002678929,000919966,03-28-10,04:00:00,REGULAR,002678929,000919966,03-28-10,08:00:00,REGULAR,002678935,000919982,03-28-10,12:00:00,REGULAR,002679003,000920006,03-28-10,16:00:00,REGULAR,002679231,000920059,03-28-10,20:00:00,REGULAR,002679475,000920098\n"
     ]
    }
   ],
   "source": [
    "print(open('data/ts_Field_Description_pre-10-18-2014.txt').read())"
   ]
  },
  {
   "cell_type": "code",
   "execution_count": 5,
   "metadata": {
    "collapsed": false
   },
   "outputs": [
    {
     "ename": "ImportError",
     "evalue": "No module named 'xlrd'",
     "output_type": "error",
     "traceback": [
      "\u001b[0;31m---------------------------------------------------------------------------\u001b[0m",
      "\u001b[0;31mImportError\u001b[0m                               Traceback (most recent call last)",
      "\u001b[0;32m<ipython-input-5-aaec787d4a2a>\u001b[0m in \u001b[0;36m<module>\u001b[0;34m()\u001b[0m\n\u001b[0;32m----> 1\u001b[0;31m \u001b[0;32mimport\u001b[0m \u001b[0mxlrd\u001b[0m\u001b[0;34m\u001b[0m\u001b[0m\n\u001b[0m\u001b[1;32m      2\u001b[0m \u001b[0mstations\u001b[0m \u001b[0;34m=\u001b[0m \u001b[0mpd\u001b[0m\u001b[0;34m.\u001b[0m\u001b[0mread_excel\u001b[0m\u001b[0;34m(\u001b[0m\u001b[0;34m'data/Remote-Booth-Station.xls'\u001b[0m\u001b[0;34m)\u001b[0m\u001b[0;34m\u001b[0m\u001b[0m\n\u001b[1;32m      3\u001b[0m \u001b[0mstations\u001b[0m\u001b[0;34m\u001b[0m\u001b[0m\n",
      "\u001b[0;31mImportError\u001b[0m: No module named 'xlrd'"
     ]
    }
   ],
   "source": [
    "import xlrd\n",
    "stations = pd.read_excel('data/Remote-Booth-Station.xls')\n",
    "stations"
   ]
  },
  {
   "cell_type": "code",
   "execution_count": 6,
   "metadata": {
    "collapsed": false
   },
   "outputs": [
    {
     "ename": "ImportError",
     "evalue": "No module named 'xlrd'",
     "output_type": "error",
     "traceback": [
      "\u001b[0;31m---------------------------------------------------------------------------\u001b[0m",
      "\u001b[0;31mImportError\u001b[0m                               Traceback (most recent call last)",
      "\u001b[0;32m<ipython-input-6-65d7f29a0b12>\u001b[0m in \u001b[0;36m<module>\u001b[0;34m()\u001b[0m\n\u001b[0;32m----> 1\u001b[0;31m \u001b[0;32mimport\u001b[0m \u001b[0mxlrd\u001b[0m\u001b[0;34m\u001b[0m\u001b[0m\n\u001b[0m\u001b[1;32m      2\u001b[0m \u001b[0mxlrd\u001b[0m\u001b[0;34m\u001b[0m\u001b[0m\n",
      "\u001b[0;31mImportError\u001b[0m: No module named 'xlrd'"
     ]
    }
   ],
   "source": [
    "import xlrd\n",
    "xlrd"
   ]
  },
  {
   "cell_type": "code",
   "execution_count": null,
   "metadata": {
    "collapsed": true
   },
   "outputs": [],
   "source": []
  },
  {
   "cell_type": "code",
   "execution_count": null,
   "metadata": {
    "collapsed": true
   },
   "outputs": [],
   "source": []
  },
  {
   "cell_type": "code",
   "execution_count": null,
   "metadata": {
    "collapsed": true
   },
   "outputs": [],
   "source": []
  }
 ],
 "metadata": {
  "kernelspec": {
   "display_name": "Python 3",
   "language": "python",
   "name": "python3"
  },
  "language_info": {
   "codemirror_mode": {
    "name": "ipython",
    "version": 3
   },
   "file_extension": ".py",
   "mimetype": "text/x-python",
   "name": "python",
   "nbconvert_exporter": "python",
   "pygments_lexer": "ipython3",
   "version": "3.4.3"
  }
 },
 "nbformat": 4,
 "nbformat_minor": 0
}
