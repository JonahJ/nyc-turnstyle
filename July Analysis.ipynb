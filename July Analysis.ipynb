{
 "cells": [
  {
   "cell_type": "code",
   "execution_count": 1,
   "metadata": {
    "collapsed": true
   },
   "outputs": [],
   "source": [
    "import numpy as np\n",
    "import pandas as pd\n",
    "from datetime import datetime\n",
    "from glob import glob\n",
    "from StringIO import StringIO\n",
    "\n",
    "''' created quick class based on August 1st Analysis '''\n",
    "from MTAReader import MTAReader"
   ]
  },
  {
   "cell_type": "markdown",
   "metadata": {},
   "source": [
    "# Process All Data Over Range\n",
    "\n",
    "created quick class  `MTAReader` based on August 1st Analysis. Should make notebook easier to follow. Note, know I have to fix the NaN rows, which represent the ~4 hour gap between the last row in the first file and then first row in next file. These files account for a total of `89.5 MB` of data, so it is plausible to ignore this, combined the files and then proceed?\n",
    "\n",
    "and worry about it for the interactive "
   ]
  },
  {
   "cell_type": "code",
   "execution_count": 6,
   "metadata": {
    "collapsed": false
   },
   "outputs": [
    {
     "name": "stdout",
     "output_type": "stream",
     "text": [
      "('Reading', 'data/turnstile_130629.txt')\n",
      "('Reading', 'data/turnstile_130706.txt')\n",
      "('Len of all files together', 30422204)\n"
     ]
    },
    {
     "data": {
      "text/plain": [
       "<StringIO.StringIO instance at 0x10e3df710>"
      ]
     },
     "execution_count": 6,
     "metadata": {},
     "output_type": "execute_result"
    }
   ],
   "source": [
    "combined_files = ''\n",
    "\n",
    "for i_file, file_name in enumerate(glob('data/turnstile_*')):\n",
    "    if i_file > 1:\n",
    "        break\n",
    "\n",
    "#     if i_file > 0:\n",
    "#         combined_files += '\\n'\n",
    "        \n",
    "    print('Reading', file_name)\n",
    "    combined_files += open(file_name).read()\n",
    "    #     combined_files = open(file_name).read()\n",
    "\n",
    "print('Len of all files together', len(combined_files))\n",
    "\n",
    "combined_files_buffer = StringIO(combined_files)\n",
    "combined_files_buffer"
   ]
  },
  {
   "cell_type": "code",
   "execution_count": 12,
   "metadata": {
    "collapsed": true
   },
   "outputs": [],
   "source": [
    "all_str = ''\n",
    "all_str += open('data/turnstile_130629.txt').read()\n",
    "# all_str += open('data/turnstile_130706.txt').read()\n",
    "all_str += open('data/turnstile_130713.txt').read()\n",
    "\n",
    "\n",
    "all_str = StringIO(all_str)"
   ]
  },
  {
   "cell_type": "code",
   "execution_count": null,
   "metadata": {
    "collapsed": false
   },
   "outputs": [
    {
     "name": "stdout",
     "output_type": "stream",
     "text": [
      "('Starting', 'Misc')\n",
      "Generated columns\n",
      "Read in raw data\n",
      "Merged with stations"
     ]
    }
   ],
   "source": [
    "mta = MTAReader('Misc', data_str=all_str)"
   ]
  },
  {
   "cell_type": "code",
   "execution_count": 5,
   "metadata": {
    "collapsed": false
   },
   "outputs": [
    {
     "data": {
      "text/plain": [
       "439826"
      ]
     },
     "execution_count": 5,
     "metadata": {},
     "output_type": "execute_result"
    }
   ],
   "source": [
    "len(mta.getDF())"
   ]
  },
  {
   "cell_type": "code",
   "execution_count": null,
   "metadata": {
    "collapsed": true
   },
   "outputs": [],
   "source": []
  }
 ],
 "metadata": {
  "kernelspec": {
   "display_name": "Python 2",
   "language": "python",
   "name": "python2"
  },
  "language_info": {
   "codemirror_mode": {
    "name": "ipython",
    "version": 2
   },
   "file_extension": ".py",
   "mimetype": "text/x-python",
   "name": "python",
   "nbconvert_exporter": "python",
   "pygments_lexer": "ipython2",
   "version": "2.7.11"
  }
 },
 "nbformat": 4,
 "nbformat_minor": 0
}
